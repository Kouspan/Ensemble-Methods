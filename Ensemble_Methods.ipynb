{
 "cells": [
  {
   "cell_type": "markdown",
   "metadata": {
    "id": "v_VpnGyWXMmK"
   },
   "source": [
    "# Ensemble Methods #"
   ]
  },
  {
   "cell_type": "code",
   "execution_count": 1,
   "metadata": {
    "id": "JvHYIhS-XMmL"
   },
   "outputs": [],
   "source": [
    "# Always run this cell\n",
    "import pandas as pd\n",
    "from sklearn.tree import DecisionTreeClassifier\n",
    "from sklearn.neighbors import KNeighborsClassifier\n",
    "from sklearn.linear_model import LogisticRegression\n",
    "from sklearn.ensemble import VotingClassifier, StackingClassifier, RandomForestClassifier,BaggingClassifier, AdaBoostClassifier\n",
    "from sklearn.model_selection import cross_validate,GridSearchCV\n",
    "from sklearn.neural_network import MLPClassifier\n",
    "from sklearn.svm import LinearSVC\n",
    "# USE THE FOLLOWING RANDOM STATE FOR YOUR CODE\n",
    "RANDOM_STATE = 42"
   ]
  },
  {
   "cell_type": "markdown",
   "metadata": {
    "id": "joKwpih2XMmM"
   },
   "source": [
    "## Download the Dataset ##\n",
    "Download the dataset using the following cell or from this [link](https://github.com/sakrifor/public/tree/master/machine_learning_course/EnsembleDataset) and put the files in the same folder as the .ipynb file. \n",
    "In this assignment you are going to work with a dataset originated from the [ImageCLEFmed: The Medical Task 2016](https://www.imageclef.org/2016/medical) and the **Compound figure detection** subtask. The goal of this subtask is to identify whether a figure is a compound figure (one image consists of more than one figure) or not. The train dataset consits of 4197 examples/figures and each figure has 4096 features which were extracted using a deep neural network. The *CLASS* column represents the class of each example where 1 is a compoung figure and 0 is not. \n"
   ]
  },
  {
   "cell_type": "code",
   "execution_count": 3,
   "metadata": {
    "colab": {
     "base_uri": "https://localhost:8080/"
    },
    "id": "NJdwPr0bXMmM",
    "outputId": "70f064fa-7ee5-4985-f59d-9c94c1d1c3f2"
   },
   "outputs": [
    {
     "data": {
      "text/plain": "('test_set_noclass.csv', <http.client.HTTPMessage at 0x2df54ada520>)"
     },
     "execution_count": 3,
     "metadata": {},
     "output_type": "execute_result"
    }
   ],
   "source": [
    "import urllib.request\n",
    "\n",
    "url_train = 'https://github.com/sakrifor/public/raw/master/machine_learning_course/EnsembleDataset/train_set.csv'\n",
    "filename_train = 'train_set.csv'\n",
    "urllib.request.urlretrieve(url_train, filename_train)\n",
    "url_test = 'https://github.com/sakrifor/public/raw/master/machine_learning_course/EnsembleDataset/test_set_noclass.csv'\n",
    "filename_test = 'test_set_noclass.csv'\n",
    "urllib.request.urlretrieve(url_test, filename_test)"
   ]
  },
  {
   "cell_type": "code",
   "execution_count": 3,
   "metadata": {
    "id": "t0OVtYr7XMmN"
   },
   "outputs": [],
   "source": [
    "# Run this cell to load the data\n",
    "train_set = pd.read_csv(\"train_set.csv\").sample(frac=1).reset_index(drop=True)\n",
    "train_set.head()\n",
    "X = train_set.drop(columns=['CLASS'])\n",
    "y = train_set['CLASS'].values"
   ]
  },
  {
   "cell_type": "markdown",
   "metadata": {
    "id": "Ww_u4OlrXMmO"
   },
   "source": [
    "### 1.1 Voting ###\n",
    "Create a voting classifier which uses three **simple** estimators/classifiers. Test both soft and hard voting and choose the best one."
   ]
  },
  {
   "cell_type": "code",
   "execution_count": 4,
   "metadata": {
    "id": "RwvPacgkXMmP"
   },
   "outputs": [],
   "source": [
    "# BEGIN CODE HERE\n",
    "\n",
    "cls1 = ('tree1', DecisionTreeClassifier(max_depth=2, random_state=RANDOM_STATE))  # Classifier #1\n",
    "cls2 = ('lrg', LogisticRegression())\n",
    "cls3 = ('knn', KNeighborsClassifier())\n",
    "soft_vcls = VotingClassifier([cls1, cls2, cls3], voting='soft')\n",
    "hard_vcls = VotingClassifier([cls1, cls2, cls3], voting='hard')\n"
   ]
  },
  {
   "cell_type": "code",
   "execution_count": 5,
   "outputs": [
    {
     "name": "stderr",
     "output_type": "stream",
     "text": [
      "[Parallel(n_jobs=2)]: Using backend LokyBackend with 2 concurrent workers.\n",
      "[Parallel(n_jobs=2)]: Done  10 out of  10 | elapsed:   30.1s finished\n",
      "[Parallel(n_jobs=2)]: Using backend LokyBackend with 2 concurrent workers.\n",
      "[Parallel(n_jobs=2)]: Done  10 out of  10 | elapsed:   18.6s finished\n"
     ]
    }
   ],
   "source": [
    "svlcs_scores = cross_validate(estimator=soft_vcls, X=X, y=y, cv=10, scoring=['f1_weighted', 'balanced_accuracy'], n_jobs=-1,\n",
    "    verbose=1, error_score='raise')\n",
    "s_avg_fmeasure = svlcs_scores['test_f1_weighted'].mean()  # The average f-measure\n",
    "s_avg_accuracy = svlcs_scores['test_balanced_accuracy'].mean()  # The average accuracy\n",
    "\n",
    "hvlcs_scores = cross_validate(estimator=hard_vcls, X=X, y=y, cv=10, scoring=['f1_weighted', 'balanced_accuracy'], n_jobs=-1,\n",
    "    verbose=1, error_score='raise')\n",
    "h_avg_fmeasure = hvlcs_scores['test_f1_weighted'].mean()  # The average f-measure\n",
    "h_avg_accuracy = hvlcs_scores['test_balanced_accuracy'].mean()  # The average accuracy\n",
    "#END CODE HERE"
   ],
   "metadata": {
    "collapsed": false,
    "pycharm": {
     "name": "#%%\n"
    }
   }
  },
  {
   "cell_type": "code",
   "execution_count": 6,
   "outputs": [
    {
     "name": "stdout",
     "output_type": "stream",
     "text": [
      "Classifier:\n",
      "VotingClassifier(estimators=[('tree1',\n",
      "                              DecisionTreeClassifier(max_depth=2,\n",
      "                                                     random_state=42)),\n",
      "                             ('lrg', LogisticRegression()),\n",
      "                             ('knn', KNeighborsClassifier())],\n",
      "                 n_jobs=2, voting='soft')\n",
      "F1 Weighted-Score: 0.8435 & Balanced Accuracy: 0.8359\n"
     ]
    }
   ],
   "source": [
    "print(\"Classifier:\")\n",
    "print(soft_vcls)\n",
    "print(\"F1 Weighted-Score: {} & Balanced Accuracy: {}\".format(round(s_avg_fmeasure, 4), round(s_avg_accuracy, 4)))"
   ],
   "metadata": {
    "collapsed": false,
    "pycharm": {
     "name": "#%%\n"
    }
   }
  },
  {
   "cell_type": "markdown",
   "metadata": {
    "id": "k-iJK9pFaDka"
   },
   "source": [
    "You should achieve above 82% (Soft Voting Classifier)"
   ]
  },
  {
   "cell_type": "code",
   "execution_count": 7,
   "metadata": {
    "id": "XRNkVAvEYVbn"
   },
   "outputs": [
    {
     "name": "stdout",
     "output_type": "stream",
     "text": [
      "Classifier:\n",
      "VotingClassifier(estimators=[('tree1',\n",
      "                              DecisionTreeClassifier(max_depth=2,\n",
      "                                                     random_state=42)),\n",
      "                             ('lrg', LogisticRegression()),\n",
      "                             ('knn', KNeighborsClassifier())],\n",
      "                 n_jobs=2)\n",
      "F1 Weighted-Score: 0.823 & Balanced Accuracy: 0.8103\n"
     ]
    }
   ],
   "source": [
    "print(\"Classifier:\")\n",
    "print(hard_vcls)\n",
    "print(\"F1 Weighted-Score: {} & Balanced Accuracy: {}\".format(round(h_avg_fmeasure, 4), round(h_avg_accuracy, 4)))"
   ]
  },
  {
   "cell_type": "markdown",
   "metadata": {
    "id": "xVPuIxwFXMmR"
   },
   "source": [
    "### 1.2 Stacking ###\n",
    "Create a stacking classifier which uses two more complex estimators. Try different simple classifiers (like the ones mentioned before) for the combination of the initial estimators.\n"
   ]
  },
  {
   "cell_type": "code",
   "execution_count": 8,
   "metadata": {
    "id": "HX6T1qrFXMmS"
   },
   "outputs": [],
   "source": [
    "# BEGIN CODE HERE\n",
    "\n",
    "cls1 = KNeighborsClassifier()\n",
    "cls3 = RandomForestClassifier(50, random_state=RANDOM_STATE)\n",
    "cls2 = MLPClassifier(hidden_layer_sizes=(100, 100), max_iter=150, early_stopping=True, learning_rate='adaptive')\n",
    "scls = StackingClassifier(estimators=[('rfc', cls3), ('knn', cls1), ('tree1', cls2)],n_jobs=-1)  # Stacking Classifier\n",
    "scores = cross_validate(estimator=scls, X=X, y=y, cv=10, scoring=['f1_weighted', 'balanced_accuracy'],n_jobs=-1)\n",
    "avg_fmeasure = scores['test_f1_weighted'].mean()  # The average f-measure\n",
    "avg_accuracy = scores['test_balanced_accuracy'].mean()  # The average accuracy\n",
    "#END CODE HERE"
   ]
  },
  {
   "cell_type": "code",
   "execution_count": 9,
   "metadata": {
    "id": "-JLRzkQ1XMmT"
   },
   "outputs": [
    {
     "name": "stdout",
     "output_type": "stream",
     "text": [
      "Classifier:\n",
      "StackingClassifier(estimators=[('rfc',\n",
      "                                RandomForestClassifier(n_estimators=50,\n",
      "                                                       random_state=42)),\n",
      "                               ('knn', KNeighborsClassifier()),\n",
      "                               ('tree1',\n",
      "                                MLPClassifier(early_stopping=True,\n",
      "                                              hidden_layer_sizes=(100, 100),\n",
      "                                              learning_rate='adaptive',\n",
      "                                              max_iter=150))],\n",
      "                   n_jobs=2)\n",
      "F1 Weighted Score: 0.8582 & Balanced Accuracy: 0.8525\n"
     ]
    }
   ],
   "source": [
    "print(\"Classifier:\")\n",
    "print(scls)\n",
    "print(\"F1 Weighted Score: {} & Balanced Accuracy: {}\".format(round(avg_fmeasure, 4), round(avg_accuracy, 4)))"
   ]
  },
  {
   "cell_type": "markdown",
   "metadata": {
    "id": "O-nqW51xXMmU"
   },
   "source": [
    "## 2.0 Randomization ##"
   ]
  },
  {
   "cell_type": "markdown",
   "metadata": {
    "id": "KPG8MdFLXMmV"
   },
   "source": [
    "**2.1** Create three ensembles of decision trees where each one uses a different method for producing homogeneous ensembles. Compare them with a simple decision tree classifier and report the results in the dictionaries (dict) below using as key the given name of your classifier and as value the f1_weighted/balanced_accuracy score."
   ]
  },
  {
   "cell_type": "code",
   "execution_count": 10,
   "outputs": [],
   "source": [
    "ens1 = BaggingClassifier(n_estimators=25,random_state=RANDOM_STATE)\n",
    "ens2 = AdaBoostClassifier(learning_rate=0.8,random_state=RANDOM_STATE)\n",
    "ens3 = RandomForestClassifier(max_depth=17,random_state=RANDOM_STATE)\n",
    "tree = DecisionTreeClassifier(max_depth=6,min_samples_split=6,random_state=RANDOM_STATE)\n",
    "classifiers = [ens1, ens2, ens3, tree]\n",
    "names = ['Bagging', 'AdaBoost', 'RandomForest', 'SimpleTree']\n",
    "f_measures = dict()\n",
    "accuracies = dict()\n",
    "for name, cls in zip(names, classifiers):\n",
    "    scores = cross_validate(estimator=cls, X=X, y=y, cv=10, scoring=['f1_weighted', 'balanced_accuracy'],n_jobs=-1)\n",
    "    f_measures[name] = scores['test_f1_weighted'].mean()\n",
    "    accuracies[name] = scores['test_balanced_accuracy'].mean()\n",
    "\n",
    "# Example f_measures = {'Simple Decision': 0.8551, 'Ensemble with random ...': 0.92, ...}\n",
    "\n",
    "#END CODE HERE"
   ],
   "metadata": {
    "collapsed": false,
    "pycharm": {
     "name": "#%%\n"
    }
   }
  },
  {
   "cell_type": "code",
   "execution_count": 11,
   "metadata": {
    "id": "IUqhDUuCXMmW"
   },
   "outputs": [
    {
     "name": "stdout",
     "output_type": "stream",
     "text": [
      "BaggingClassifier(n_estimators=25, random_state=42)\n",
      "AdaBoostClassifier(learning_rate=0.8, random_state=42)\n",
      "RandomForestClassifier(max_depth=17, random_state=42)\n",
      "DecisionTreeClassifier(max_depth=6, min_samples_split=6, random_state=42)\n",
      "Classifier:Bagging -  F1 Weighted:0.7971\n",
      "Classifier:AdaBoost -  F1 Weighted:0.7925\n",
      "Classifier:RandomForest -  F1 Weighted:0.8034\n",
      "Classifier:SimpleTree -  F1 Weighted:0.7095\n",
      "Classifier:Bagging -  BalancedAccuracy:0.7843\n",
      "Classifier:AdaBoost -  BalancedAccuracy:0.7823\n",
      "Classifier:RandomForest -  BalancedAccuracy:0.7869\n",
      "Classifier:SimpleTree -  BalancedAccuracy:0.6967\n"
     ]
    }
   ],
   "source": [
    "print(ens1)\n",
    "print(ens2)\n",
    "print(ens3)\n",
    "print(tree)\n",
    "for name, score in f_measures.items():\n",
    "    print(\"Classifier:{} -  F1 Weighted:{}\".format(name, round(score, 4)))\n",
    "for name, score in accuracies.items():\n",
    "    print(\"Classifier:{} -  BalancedAccuracy:{}\".format(name, round(score, 4)))"
   ]
  },
  {
   "cell_type": "markdown",
   "metadata": {
    "id": "UqdXTE_2XMmX"
   },
   "source": [
    "**2.2** Describe the classifiers and the results."
   ]
  },
  {
   "cell_type": "code",
   "execution_count": 13,
   "outputs": [
    {
     "data": {
      "text/plain": "<Figure size 1008x648 with 2 Axes>",
      "image/png": "[encoded data removed]"
     },
     "metadata": {},
     "output_type": "display_data"
    }
   ],
   "source": [
    "import seaborn as sns\n",
    "import matplotlib.pyplot as plt\n",
    "#Load saved results for default and tuned classifiers\n",
    "res_tuned=pd.read_csv('./results_tuned.csv',header=[0])\n",
    "res_tuned_m=res_tuned.melt(id_vars=['algorithm'],value_vars=['balanced_acc', 'f1_weighted'],var_name='Metric')\n",
    "res_def=pd.read_csv('./results_default.csv',header=[0])\n",
    "res_def_m=res_def.melt(id_vars=['algorithm'],value_vars=['balanced_acc', 'f1_weighted'],var_name='Metric')\n",
    "#Plot the results\n",
    "fig,axes=plt.subplots(1,2,figsize=(14,9),sharey='all')\n",
    "sns.set_theme(context='notebook',style='whitegrid')\n",
    "sns.barplot(ax=axes[0],x='algorithm',y='value',hue='Metric',data=res_def_m)\n",
    "axes[0].set_title('Default Parameters')\n",
    "sns.barplot(ax=axes[1],x='algorithm',y='value',hue='Metric',data=res_tuned_m)\n",
    "axes[1].set_title('Tuned Parameters')\n",
    "plt.tight_layout()\n",
    "plt.show()"
   ],
   "metadata": {
    "collapsed": false,
    "pycharm": {
     "name": "#%%\n"
    }
   }
  },
  {
   "cell_type": "markdown",
   "metadata": {
    "id": "rU9POFftXMmX"
   },
   "source": [
    "For the ensemble classifiers I chose a BaggingClassifier, a AdaBoostClassifier and a RandomForestClassifier.\n",
    "I ran 2 tests. On the first one, I used the default parameters of the classifiers and on the second test, I used GridSearchCV to slightly tune some parameters in a very small search space.\n",
    "In both tests all 3 ensembles perform better than DecisionTreeClassifier by almost 10%. Between the 3 default ensembles, RandomForest performs the best (probably because it has 100 simple estimators by default, compared to 25 and 10 estimators of AdaBoost and Bagging) but with some tuning they all perform the same."
   ]
  },
  {
   "cell_type": "markdown",
   "metadata": {
    "id": "XgvsCbUGXMmY"
   },
   "source": [
    "## 3.0 Creating the best classifier ##"
   ]
  },
  {
   "cell_type": "code",
   "execution_count": 30,
   "outputs": [],
   "source": [
    "# BEGIN CODE HERE\n",
    "# The 2 classifiers with the best results yet, parameters found with GridSearchCV for BaggingSVM and trial and error for the BaggingMLP, because each training takes a lot of time\n",
    "# compared to other methods.\n",
    "\n",
    "SVM = LinearSVC(max_iter=15,C=2)\n",
    "MLP = MLPClassifier(hidden_layer_sizes=(100,100),max_iter=100, early_stopping=True, learning_rate='adaptive')\n",
    "bag_SMV = BaggingClassifier(base_estimator=SVM,n_estimators=100,max_features=0.5,bootstrap_features=True,n_jobs=-1)\n",
    "bag_MLP = BaggingClassifier(base_estimator=MLP,n_estimators=125,max_features=0.2,bootstrap_features=True,n_jobs=-1)"
   ],
   "metadata": {
    "collapsed": false,
    "pycharm": {
     "name": "#%%\n"
    }
   }
  },
  {
   "cell_type": "code",
   "execution_count": 31,
   "outputs": [
    {
     "name": "stderr",
     "output_type": "stream",
     "text": [
      "[Parallel(n_jobs=2)]: Using backend LokyBackend with 2 concurrent workers.\n",
      "[Parallel(n_jobs=2)]: Done  10 out of  10 | elapsed:  2.8min finished\n"
     ]
    },
    {
     "name": "stdout",
     "output_type": "stream",
     "text": [
      "0.8560050996572185\n",
      "0.849851819164169\n",
      "{'base_estimator__C': 2, 'base_estimator__class_weight': None, 'base_estimator__dual': True, 'base_estimator__fit_intercept': True, 'base_estimator__intercept_scaling': 1, 'base_estimator__loss': 'squared_hinge', 'base_estimator__max_iter': 15, 'base_estimator__multi_class': 'ovr', 'base_estimator__penalty': 'l2', 'base_estimator__random_state': None, 'base_estimator__tol': 0.0001, 'base_estimator__verbose': 0, 'base_estimator': LinearSVC(C=2, max_iter=15), 'bootstrap': True, 'bootstrap_features': True, 'max_features': 0.5, 'max_samples': 1.0, 'n_estimators': 100, 'n_jobs': None, 'oob_score': False, 'random_state': None, 'verbose': 0, 'warm_start': False}\n"
     ]
    }
   ],
   "source": [
    "scores_svm = cross_validate(bag_SMV,X.values,y,cv=10,n_jobs=-1,verbose=2,scoring=['f1_weighted','balanced_accuracy'],error_score='raise')\n",
    "print(scores_svm['test_f1_weighted'].mean())\n",
    "print(scores_svm['test_balanced_accuracy'].mean())\n",
    "print(bag_SMV.get_params())"
   ],
   "metadata": {
    "collapsed": false,
    "pycharm": {
     "name": "#%%\n"
    }
   }
  },
  {
   "cell_type": "code",
   "execution_count": 32,
   "outputs": [
    {
     "name": "stderr",
     "output_type": "stream",
     "text": [
      "[Parallel(n_jobs=-1)]: Using backend LokyBackend with 4 concurrent workers.\n",
      "[Parallel(n_jobs=-1)]: Done  10 out of  10 | elapsed: 22.2min finished\n"
     ]
    },
    {
     "name": "stdout",
     "output_type": "stream",
     "text": [
      "0.8603200423450875\n",
      "0.853194251474261\n",
      "{'base_estimator__activation': 'relu', 'base_estimator__alpha': 0.0001, 'base_estimator__batch_size': 'auto', 'base_estimator__beta_1': 0.9, 'base_estimator__beta_2': 0.999, 'base_estimator__early_stopping': True, 'base_estimator__epsilon': 1e-08, 'base_estimator__hidden_layer_sizes': (100, 100), 'base_estimator__learning_rate': 'adaptive', 'base_estimator__learning_rate_init': 0.001, 'base_estimator__max_fun': 15000, 'base_estimator__max_iter': 100, 'base_estimator__momentum': 0.9, 'base_estimator__n_iter_no_change': 10, 'base_estimator__nesterovs_momentum': True, 'base_estimator__power_t': 0.5, 'base_estimator__random_state': None, 'base_estimator__shuffle': True, 'base_estimator__solver': 'adam', 'base_estimator__tol': 0.0001, 'base_estimator__validation_fraction': 0.1, 'base_estimator__verbose': False, 'base_estimator__warm_start': False, 'base_estimator': MLPClassifier(early_stopping=True, hidden_layer_sizes=(100, 100),\n",
      "              learning_rate='adaptive', max_iter=100), 'bootstrap': True, 'bootstrap_features': True, 'max_features': 0.2, 'max_samples': 1.0, 'n_estimators': 125, 'n_jobs': None, 'oob_score': False, 'random_state': None, 'verbose': 0, 'warm_start': False}\n"
     ]
    }
   ],
   "source": [
    "scores_mlp = cross_validate(bag_MLP,X.values,y,cv=10,n_jobs=-1,verbose=2,scoring=['f1_weighted','balanced_accuracy'],error_score='raise')\n",
    "print(scores_mlp['test_f1_weighted'].mean())\n",
    "print(scores_mlp['test_balanced_accuracy'].mean())\n",
    "print(bag_MLP.get_params())"
   ],
   "metadata": {
    "collapsed": false,
    "pycharm": {
     "name": "#%%\n"
    }
   }
  },
  {
   "cell_type": "code",
   "execution_count": 35,
   "outputs": [],
   "source": [
    "best_cls = bag_MLP\n",
    "best_fmeasure = scores_mlp['test_f1_weighted'].mean()\n",
    "best_accuracy = scores_mlp['test_balanced_accuracy'].mean()\n",
    "#END CODE HERE"
   ],
   "metadata": {
    "collapsed": false,
    "pycharm": {
     "name": "#%%\n"
    }
   }
  },
  {
   "cell_type": "code",
   "execution_count": 36,
   "metadata": {
    "colab": {
     "base_uri": "https://localhost:8080/"
    },
    "id": "FbLB09agXMma",
    "outputId": "be9abfc9-aa0d-4e22-9f07-46926fd1d987"
   },
   "outputs": [
    {
     "name": "stdout",
     "output_type": "stream",
     "text": [
      "Classifier:\n",
      "BaggingClassifier(base_estimator=MLPClassifier(early_stopping=True,\n",
      "                                               hidden_layer_sizes=(100, 100),\n",
      "                                               learning_rate='adaptive',\n",
      "                                               max_iter=100),\n",
      "                  bootstrap_features=True, max_features=0.2, n_estimators=125)\n",
      "F1 Weighted-Score:0.8603200423450875 & Balanced Accuracy:0.853194251474261\n"
     ]
    }
   ],
   "source": [
    "print(\"Classifier:\")\n",
    "print(best_cls)\n",
    "print(\"F1 Weighted-Score:{} & Balanced Accuracy:{}\".format(best_fmeasure, best_accuracy))"
   ]
  },
  {
   "cell_type": "markdown",
   "metadata": {
    "id": "o5dAfbTfXMmb"
   },
   "source": [
    "At first, some methods of section 2 and their variants were tried, such as:\n",
    "- Random Forest Classifier for different parameters of estimators and tree depth.\n",
    "- Adaptive Boosting with base estimators, Decision Trees, RBF SVMs and 2-layer MLPs\n",
    "- Bagging Classifier with Decision Trees.\n",
    "\n",
    "The ensemble methods with non-linear SVMs as base estimators were really slow to train, caused by the high dimensionality of the features in the dataset and the number of samples. Since the features of the data were mainly uncorrelated, a subset of the features could be used to train linear SMVs (scale better than non-linear) in a Bagging Classifier.\n",
    "The above method had the best performance yet. So I tuned the parameters with a large grid search and got the above results.(f1: 85.5% ,b_acc: 84.9%)\n",
    "Finally, the same method was used but with MLPs instead of SVMs. After some tuning of the layers and max iterations of the MLPs, it had around 0.5% increase in both metrics.(f1: 86% ,b_acc: 85.3%)\n",
    "\n",
    "Stacking SVM Bagging classifiers and/or MLP Bagging classifiers was also tested but had worse results.\n"
   ]
  },
  {
   "cell_type": "markdown",
   "metadata": {
    "id": "lnAp-d2DXMmf",
    "pycharm": {
     "name": "#%% md\n"
    }
   },
   "source": [
    "Use numpy ndarray instead of Dataframe for the input data, to avoid a UserWarning about feature names."
   ]
  }
 ],
 "metadata": {
  "accelerator": "GPU",
  "colab": {
   "name": "EnsembleMethods.ipynb",
   "provenance": [],
   "collapsed_sections": []
  },
  "kernelspec": {
   "display_name": "Python 3",
   "language": "python",
   "name": "python3"
  },
  "language_info": {
   "codemirror_mode": {
    "name": "ipython",
    "version": 3
   },
   "file_extension": ".py",
   "mimetype": "text/x-python",
   "name": "python",
   "nbconvert_exporter": "python",
   "pygments_lexer": "ipython3",
   "version": "3.7.10"
  }
 },
 "nbformat": 4,
 "nbformat_minor": 0
}